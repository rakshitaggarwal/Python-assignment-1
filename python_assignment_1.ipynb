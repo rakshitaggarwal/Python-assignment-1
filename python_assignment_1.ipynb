{
  "nbformat": 4,
  "nbformat_minor": 0,
  "metadata": {
    "colab": {
      "provenance": [],
      "authorship_tag": "ABX9TyNxQ9NsEJ0M7Ijk/ifbN/yM",
      "include_colab_link": true
    },
    "kernelspec": {
      "name": "python3",
      "display_name": "Python 3"
    },
    "language_info": {
      "name": "python"
    }
  },
  "cells": [
    {
      "cell_type": "markdown",
      "metadata": {
        "id": "view-in-github",
        "colab_type": "text"
      },
      "source": [
        "<a href=\"https://colab.research.google.com/github/rakshitaggarwal/Python-assignment-1/blob/main/python_assignment_1.ipynb\" target=\"_parent\"><img src=\"https://colab.research.google.com/assets/colab-badge.svg\" alt=\"Open In Colab\"/></a>"
      ]
    },
    {
      "cell_type": "code",
      "execution_count": 17,
      "metadata": {
        "id": "_hhAARP9oMEv"
      },
      "outputs": [],
      "source": []
    },
    {
      "cell_type": "markdown",
      "source": [
        "Q1. L is a list defined as L= [11, 12, 13, 14].\n",
        "\n",
        "(i) WAP to add 50 and 60 to L."
      ],
      "metadata": {
        "id": "gnF5mScgwtwR"
      }
    },
    {
      "cell_type": "code",
      "source": [
        "L=[11,12,13,14]\n",
        "print(L)\n",
        "L.append(50)\n",
        "L.append(60)\n",
        "print(L)"
      ],
      "metadata": {
        "colab": {
          "base_uri": "https://localhost:8080/"
        },
        "id": "SRoufHX5w9AM",
        "outputId": "4131f451-a8a1-4c06-e918-cce8f9d42b11"
      },
      "execution_count": 19,
      "outputs": [
        {
          "output_type": "stream",
          "name": "stdout",
          "text": [
            "[11, 12, 13, 14]\n",
            "[11, 12, 13, 14, 50, 60]\n"
          ]
        }
      ]
    },
    {
      "cell_type": "markdown",
      "source": [
        "(ii) WAP to remove 11 and 13from L."
      ],
      "metadata": {
        "id": "s97TXLetxjF-"
      }
    },
    {
      "cell_type": "code",
      "source": [
        "L= [11, 12, 13, 14]\n",
        "print(len(L))\n",
        "del L[0]\n",
        "del L[1]\n",
        "print(L)"
      ],
      "metadata": {
        "colab": {
          "base_uri": "https://localhost:8080/"
        },
        "id": "Lp6gLDBoxp1J",
        "outputId": "b03492ed-74be-4abd-d3a4-ebff9ce616e9"
      },
      "execution_count": 21,
      "outputs": [
        {
          "output_type": "stream",
          "name": "stdout",
          "text": [
            "4\n",
            "[12, 14]\n"
          ]
        }
      ]
    },
    {
      "cell_type": "markdown",
      "source": [
        "(iii) WAP to sort L in ascending order"
      ],
      "metadata": {
        "id": "suVEz_ZNyEol"
      }
    },
    {
      "cell_type": "code",
      "source": [
        "L= [11, 12, 13, 14]\n",
        "(L.sort())\n",
        "print(L)"
      ],
      "metadata": {
        "colab": {
          "base_uri": "https://localhost:8080/"
        },
        "id": "nX53KhvpyGU-",
        "outputId": "f9bdf81b-51e6-4918-aad2-819f938eb59f"
      },
      "execution_count": 22,
      "outputs": [
        {
          "output_type": "stream",
          "name": "stdout",
          "text": [
            "[11, 12, 13, 14]\n"
          ]
        }
      ]
    },
    {
      "cell_type": "markdown",
      "source": [
        "(iv) WAP to sort L in descending order."
      ],
      "metadata": {
        "id": "0TJC7ufdyLRE"
      }
    },
    {
      "cell_type": "code",
      "source": [
        "L= [11, 12, 13, 14]\n",
        "L.sort(reverse=True)\n",
        "print(L)"
      ],
      "metadata": {
        "colab": {
          "base_uri": "https://localhost:8080/"
        },
        "id": "E_WEpsyiyUuC",
        "outputId": "aaa2c647-6e3f-4e2b-f32b-867f89624be4"
      },
      "execution_count": 23,
      "outputs": [
        {
          "output_type": "stream",
          "name": "stdout",
          "text": [
            "[14, 13, 12, 11]\n"
          ]
        }
      ]
    },
    {
      "cell_type": "markdown",
      "source": [
        "(v) WAP to search for 13 in L.\n"
      ],
      "metadata": {
        "id": "GhL9Vn50yelj"
      }
    },
    {
      "cell_type": "code",
      "source": [
        "L= [11, 12, 13, 14]\n",
        "for n in range(4):\n",
        "  try:\n",
        "   if(L[n]==13):\n",
        "    print(n)\n",
        "  except:\n",
        "   print(\"element not found\")    \n",
        "  "
      ],
      "metadata": {
        "colab": {
          "base_uri": "https://localhost:8080/"
        },
        "id": "0lcrzmY5yfor",
        "outputId": "df3cecaf-0a62-43f1-afd4-66842cae3508"
      },
      "execution_count": 30,
      "outputs": [
        {
          "output_type": "stream",
          "name": "stdout",
          "text": [
            "2\n"
          ]
        }
      ]
    },
    {
      "cell_type": "markdown",
      "source": [
        "(vi) WAP to count the number of elements present in L"
      ],
      "metadata": {
        "id": "vKW0Ipw0zqh7"
      }
    },
    {
      "cell_type": "code",
      "source": [
        "L=[11,12,13,14]\n",
        "print(len(L))"
      ],
      "metadata": {
        "colab": {
          "base_uri": "https://localhost:8080/"
        },
        "id": "AriyRsEizzb3",
        "outputId": "fed7a8ac-7813-492d-c968-d8d374b6d64e"
      },
      "execution_count": 31,
      "outputs": [
        {
          "output_type": "stream",
          "name": "stdout",
          "text": [
            "4\n"
          ]
        }
      ]
    },
    {
      "cell_type": "markdown",
      "source": [
        "(vii) WAP to sum all the elements in L"
      ],
      "metadata": {
        "id": "Mz7WpNvV0CdV"
      }
    },
    {
      "cell_type": "code",
      "source": [
        "L= [11, 12, 13, 14]\n",
        "sum=0\n",
        "for n in L:\n",
        "  sum=sum+n\n",
        "print(sum)  "
      ],
      "metadata": {
        "colab": {
          "base_uri": "https://localhost:8080/"
        },
        "id": "egqsKo_I0Iax",
        "outputId": "5fb09287-c715-4dd8-fd6a-2b8be38a949f"
      },
      "execution_count": 32,
      "outputs": [
        {
          "output_type": "stream",
          "name": "stdout",
          "text": [
            "50\n"
          ]
        }
      ]
    },
    {
      "cell_type": "markdown",
      "source": [
        "(viii) WAP to sum all ODD numbers in L"
      ],
      "metadata": {
        "id": "fBMv2Nd00UgM"
      }
    },
    {
      "cell_type": "code",
      "source": [
        "L= [11, 12, 13, 14]\n",
        "sum=0\n",
        "for n in L:\n",
        "  if(n%2!=0):\n",
        "    sum=sum+n\n",
        "print(sum)    "
      ],
      "metadata": {
        "colab": {
          "base_uri": "https://localhost:8080/"
        },
        "id": "N210vqcr0W1m",
        "outputId": "5c2ddf5a-f047-4211-ad7f-b51794da39ad"
      },
      "execution_count": 33,
      "outputs": [
        {
          "output_type": "stream",
          "name": "stdout",
          "text": [
            "24\n"
          ]
        }
      ]
    },
    {
      "cell_type": "markdown",
      "source": [
        "(ix) WAP to sum all EVEN numbers in L."
      ],
      "metadata": {
        "id": "2HritUiF0gmr"
      }
    },
    {
      "cell_type": "code",
      "source": [
        "L= [11, 12, 13, 14]\n",
        "sum=0\n",
        "for n in L:\n",
        "  if(n%2==0):\n",
        "    sum=sum+n\n",
        "print(sum)    "
      ],
      "metadata": {
        "colab": {
          "base_uri": "https://localhost:8080/"
        },
        "id": "z7iE0ohF0iPT",
        "outputId": "6325cacf-d513-44b3-c94e-138564df20ac"
      },
      "execution_count": 35,
      "outputs": [
        {
          "output_type": "stream",
          "name": "stdout",
          "text": [
            "26\n"
          ]
        }
      ]
    },
    {
      "cell_type": "markdown",
      "source": [
        "(xi) WAP to clear all the elements in L."
      ],
      "metadata": {
        "id": "pb6N0NP80-l4"
      }
    },
    {
      "cell_type": "code",
      "source": [
        "L= [11, 12, 13, 14]\n",
        "L.clear()\n",
        "print(L)"
      ],
      "metadata": {
        "colab": {
          "base_uri": "https://localhost:8080/"
        },
        "id": "FYo-Z73h1FE1",
        "outputId": "2cd8b727-91de-4237-b44d-6e259974acb6"
      },
      "execution_count": 34,
      "outputs": [
        {
          "output_type": "stream",
          "name": "stdout",
          "text": [
            "[]\n"
          ]
        }
      ]
    },
    {
      "cell_type": "markdown",
      "source": [
        "(xii) WAP to delete L"
      ],
      "metadata": {
        "id": "sSJADgxC1Tfn"
      }
    },
    {
      "cell_type": "code",
      "source": [
        "L= [11, 12, 13, 14]\n",
        "del L"
      ],
      "metadata": {
        "id": "tAhk7Jdj1YyV"
      },
      "execution_count": 36,
      "outputs": []
    },
    {
      "cell_type": "markdown",
      "source": [
        "Q2. D is a dictionary defined as D= {1:5.6, 2:7.8, 3:6.6, 4:8.7, 5:7.7}\n",
        "\n",
        "(i) WAP to add new entry in D; key=8 and value is 8.8"
      ],
      "metadata": {
        "id": "NyCu_yvw1cVQ"
      }
    },
    {
      "cell_type": "code",
      "source": [
        "D= {1:5.6, 2:7.8, 3:6.6, 4:8.7, 5:7.7}\n",
        "D[8]=8.8\n",
        "print(D)\n"
      ],
      "metadata": {
        "colab": {
          "base_uri": "https://localhost:8080/"
        },
        "id": "BzVCty8y1gMo",
        "outputId": "f4368ec2-af97-4a8e-ab35-d84f9bf42f3d"
      },
      "execution_count": 37,
      "outputs": [
        {
          "output_type": "stream",
          "name": "stdout",
          "text": [
            "{1: 5.6, 2: 7.8, 3: 6.6, 4: 8.7, 5: 7.7, 8: 8.8}\n"
          ]
        }
      ]
    },
    {
      "cell_type": "markdown",
      "source": [
        "(ii) WAP to remove key=2"
      ],
      "metadata": {
        "id": "aUpQDOBa1nL0"
      }
    },
    {
      "cell_type": "code",
      "source": [
        "D= {1:5.6, 2:7.8, 3:6.6, 4:8.7, 5:7.7}\n",
        "del D[2]\n",
        "print(D)"
      ],
      "metadata": {
        "colab": {
          "base_uri": "https://localhost:8080/"
        },
        "id": "UdW4QBFS1ouv",
        "outputId": "178ee521-af0a-4bc1-cb2e-245b041c2b16"
      },
      "execution_count": 38,
      "outputs": [
        {
          "output_type": "stream",
          "name": "stdout",
          "text": [
            "{1: 5.6, 3: 6.6, 4: 8.7, 5: 7.7}\n"
          ]
        }
      ]
    },
    {
      "cell_type": "markdown",
      "source": [
        "(iii) WAP to check weather 6 key is present in D."
      ],
      "metadata": {
        "id": "478s9Ucp1v57"
      }
    },
    {
      "cell_type": "code",
      "source": [
        "D= {1:5.6, 2:7.8, 3:6.6, 4:8.7, 5:7.7}\n",
        "print(6 in D)\n"
      ],
      "metadata": {
        "colab": {
          "base_uri": "https://localhost:8080/"
        },
        "id": "9ByjfYCN1wug",
        "outputId": "855bf6e0-84b9-4bf3-8381-a539f6158618"
      },
      "execution_count": 39,
      "outputs": [
        {
          "output_type": "stream",
          "name": "stdout",
          "text": [
            "False\n"
          ]
        }
      ]
    },
    {
      "cell_type": "markdown",
      "source": [
        "(iv) WAP to count the number of elements present in D."
      ],
      "metadata": {
        "id": "j0QPuua-15IL"
      }
    },
    {
      "cell_type": "code",
      "source": [
        "D= {1:5.6, 2:7.8, 3:6.6, 4:8.7, 5:7.7}\n",
        "count=0\n",
        "for n in range(len(D)):\n",
        "  count=count+1\n",
        "print(count) "
      ],
      "metadata": {
        "colab": {
          "base_uri": "https://localhost:8080/"
        },
        "id": "eAQr3xIW16iS",
        "outputId": "a822989b-c272-4594-9dd9-029255b6b2b6"
      },
      "execution_count": 55,
      "outputs": [
        {
          "output_type": "stream",
          "name": "stdout",
          "text": [
            "5\n"
          ]
        }
      ]
    },
    {
      "cell_type": "markdown",
      "source": [
        "(v) WAP to add all the values present D."
      ],
      "metadata": {
        "id": "7u7wY6Zj2Fdz"
      }
    },
    {
      "cell_type": "code",
      "source": [
        "D= {1:5.6, 2:7.8, 3:6.6, 4:8.7, 5:7.7}\n",
        "sum=0\n",
        "for n in D:\n",
        "  sum=sum+D[n]\n",
        "print(sum)  \n"
      ],
      "metadata": {
        "colab": {
          "base_uri": "https://localhost:8080/"
        },
        "id": "xShPf8HC2GUB",
        "outputId": "9d609d3b-5dc9-42c1-ae2b-c085c9cfac08"
      },
      "execution_count": 41,
      "outputs": [
        {
          "output_type": "stream",
          "name": "stdout",
          "text": [
            "36.4\n"
          ]
        }
      ]
    },
    {
      "cell_type": "markdown",
      "source": [
        "(vi) WAP to update the value of 3 to 7.1."
      ],
      "metadata": {
        "id": "c_Sq1X2D2MXT"
      }
    },
    {
      "cell_type": "code",
      "source": [
        "D= {1:5.6, 2:7.8, 3:6.6, 4:8.7, 5:7.7}\n",
        "D[3]=7.1\n",
        "print(D)"
      ],
      "metadata": {
        "colab": {
          "base_uri": "https://localhost:8080/"
        },
        "id": "KIz8tqRv2NVv",
        "outputId": "68bc160c-742e-408d-926f-b6dd8923fdca"
      },
      "execution_count": 43,
      "outputs": [
        {
          "output_type": "stream",
          "name": "stdout",
          "text": [
            "{1: 5.6, 2: 7.8, 3: 7.1, 4: 8.7, 5: 7.7}\n"
          ]
        }
      ]
    },
    {
      "cell_type": "markdown",
      "source": [
        "(vii) WAP to clear the dictionary."
      ],
      "metadata": {
        "id": "BNr2jrmn2XRb"
      }
    },
    {
      "cell_type": "code",
      "source": [
        "D= {1:5.6, 2:7.8, 3:6.6, 4:8.7, 5:7.7}\n",
        "dict.clear(D)\n",
        "print(D)\n"
      ],
      "metadata": {
        "colab": {
          "base_uri": "https://localhost:8080/"
        },
        "id": "w1akHvYC2YZR",
        "outputId": "0a8d2dd5-7b46-45a1-e528-1f258b6cb8c5"
      },
      "execution_count": 44,
      "outputs": [
        {
          "output_type": "stream",
          "name": "stdout",
          "text": [
            "{}\n"
          ]
        }
      ]
    },
    {
      "cell_type": "markdown",
      "source": [
        "Q3. S1 is a set defined as S1= [10, 20, 30, 40, 50, 60]. S2 is a set defined as S2= [40, 50, 60, 70, 80, 90].\n",
        "\n",
        "(i) WAP to add 55 and 66 in Set S1"
      ],
      "metadata": {
        "id": "LiTlTsDZ2gsx"
      }
    },
    {
      "cell_type": "code",
      "source": [
        "S1= set([10, 20, 30, 40, 50, 60])\n",
        "S2= set([40, 50, 60, 70, 80, 90])\n",
        "S1.add(55)\n",
        "S1.add(66)\n",
        "print(S1)"
      ],
      "metadata": {
        "colab": {
          "base_uri": "https://localhost:8080/"
        },
        "id": "geIdw2Tg2hgL",
        "outputId": "20965805-64f8-4b8f-cda0-22a560fa87be"
      },
      "execution_count": 45,
      "outputs": [
        {
          "output_type": "stream",
          "name": "stdout",
          "text": [
            "{66, 40, 10, 50, 20, 55, 60, 30}\n"
          ]
        }
      ]
    },
    {
      "cell_type": "markdown",
      "source": [
        "(ii) WAP to remove 10 and 30 from Set S1"
      ],
      "metadata": {
        "id": "RNZ6qMKU2sQ7"
      }
    },
    {
      "cell_type": "code",
      "source": [
        "S1= set([10, 20, 30, 40, 50, 60])\n",
        "S2= set([40, 50, 60, 70, 80, 90])\n",
        "S1.remove(30)\n",
        "S1.remove(10)\n",
        "print(S1)\n"
      ],
      "metadata": {
        "colab": {
          "base_uri": "https://localhost:8080/"
        },
        "id": "RkPKeO9-2tDH",
        "outputId": "bb7e23e4-07bb-4351-c849-ddc19bfee079"
      },
      "execution_count": 46,
      "outputs": [
        {
          "output_type": "stream",
          "name": "stdout",
          "text": [
            "{40, 50, 20, 60}\n"
          ]
        }
      ]
    },
    {
      "cell_type": "markdown",
      "source": [
        "(iii) WAP to check whether 40 is present in S1"
      ],
      "metadata": {
        "id": "g9WzpR-x2xLS"
      }
    },
    {
      "cell_type": "code",
      "source": [
        "S1= set([10, 20, 30, 40, 50, 60])\n",
        "print(40 in S1)"
      ],
      "metadata": {
        "colab": {
          "base_uri": "https://localhost:8080/"
        },
        "id": "hTqBnBGs20I4",
        "outputId": "937268ff-1a97-4c53-aaf6-69c754ff1949"
      },
      "execution_count": 48,
      "outputs": [
        {
          "output_type": "stream",
          "name": "stdout",
          "text": [
            "True\n"
          ]
        }
      ]
    },
    {
      "cell_type": "markdown",
      "source": [
        "(iv) WAP to find the union between S1 and S2"
      ],
      "metadata": {
        "id": "qZtF_ms0293H"
      }
    },
    {
      "cell_type": "code",
      "source": [
        "S1= set([10, 20, 30, 40, 50, 60])\n",
        "S2= set([40, 50, 60, 70, 80, 90])\n",
        "\n",
        "S3=S1.union(S2)\n",
        "print(S3)"
      ],
      "metadata": {
        "colab": {
          "base_uri": "https://localhost:8080/"
        },
        "id": "FLVjmTJ73DTa",
        "outputId": "9bef0f68-5ab8-4039-f411-98ce79d79d19"
      },
      "execution_count": 49,
      "outputs": [
        {
          "output_type": "stream",
          "name": "stdout",
          "text": [
            "{70, 40, 10, 80, 50, 20, 90, 60, 30}\n"
          ]
        }
      ]
    },
    {
      "cell_type": "markdown",
      "source": [
        "(v) WAP to find the intersection between S1 and S2"
      ],
      "metadata": {
        "id": "66f-JWYJ3J7d"
      }
    },
    {
      "cell_type": "code",
      "source": [
        "S1= set([10, 20, 30, 40, 50, 60])\n",
        "S2= set([40, 50, 60, 70, 80, 90])\n",
        "S3=S1.intersection(S2)\n",
        "print(S3)"
      ],
      "metadata": {
        "colab": {
          "base_uri": "https://localhost:8080/"
        },
        "id": "yhtKIfYG3LXO",
        "outputId": "c67add09-4656-4df3-c9e7-75c56fea7398"
      },
      "execution_count": 50,
      "outputs": [
        {
          "output_type": "stream",
          "name": "stdout",
          "text": [
            "{40, 50, 60}\n"
          ]
        }
      ]
    },
    {
      "cell_type": "markdown",
      "source": [
        "(vi) WAP to find the S1 - S2"
      ],
      "metadata": {
        "id": "hONfhDTo3TzW"
      }
    },
    {
      "cell_type": "code",
      "source": [
        "S1= set([10, 20, 30, 40, 50, 60])\n",
        "S2= set([40, 50, 60, 70, 80, 90])\n",
        "S3=S1.difference(S2)\n",
        "print(S3)"
      ],
      "metadata": {
        "colab": {
          "base_uri": "https://localhost:8080/"
        },
        "id": "67Uxf7wU3VGv",
        "outputId": "e694cff9-5f15-44d2-cbce-0ffb20df1b0d"
      },
      "execution_count": 51,
      "outputs": [
        {
          "output_type": "stream",
          "name": "stdout",
          "text": [
            "{10, 20, 30}\n"
          ]
        }
      ]
    },
    {
      "cell_type": "markdown",
      "source": [
        "Q4. Write the following program.\n",
        "\n",
        "(i) WAP to print 100 random strings whose length between 6 and 8"
      ],
      "metadata": {
        "id": "_Hnf1lP73dAj"
      }
    },
    {
      "cell_type": "code",
      "source": [
        "import random as r\n",
        "import string as s\n",
        "for n in range(1,101,1):\n",
        "  length=r.randint(6,8)\n",
        "  (s.ascii_letters)\n",
        "  pss=r.sample(s.ascii_letters,length)\n",
        "  new_pss=\"\".join(pss)\n",
        "  print(new_pss)\n"
      ],
      "metadata": {
        "colab": {
          "base_uri": "https://localhost:8080/"
        },
        "id": "KVrEgMxA3dzM",
        "outputId": "dd34a3c9-63b5-40cf-d72a-8b21e67c46a2"
      },
      "execution_count": 52,
      "outputs": [
        {
          "output_type": "stream",
          "name": "stdout",
          "text": [
            "FzTfpUOB\n",
            "JoqYkbT\n",
            "EsDXag\n",
            "LatnTj\n",
            "tNKXmd\n",
            "CpQKUXN\n",
            "ZLphxFJ\n",
            "ELxXKerC\n",
            "BiDGhT\n",
            "siekHOKT\n",
            "FQucJI\n",
            "JygZSR\n",
            "jiOQBPAN\n",
            "yFBYQNHg\n",
            "xKUTNq\n",
            "uEOLlF\n",
            "dgyhoc\n",
            "WcKfEyd\n",
            "JjSoRzhD\n",
            "GEejPsR\n",
            "fxLKaMbB\n",
            "SatxdIT\n",
            "obLORzmZ\n",
            "KqrLpPxZ\n",
            "KIPBMNds\n",
            "GglRxEbI\n",
            "SyjHuLn\n",
            "WvJjDkza\n",
            "DWpBMj\n",
            "SlEqVPJO\n",
            "ekwxCPs\n",
            "pbJmyjqX\n",
            "pcLsCegr\n",
            "NYuOICE\n",
            "dxhQeZw\n",
            "gaAMuhj\n",
            "wvLlPxO\n",
            "HMNmnRzT\n",
            "GHAwrMR\n",
            "jdoSZcub\n",
            "wLmAUC\n",
            "KzqLeFJu\n",
            "aievugQd\n",
            "bSDJkB\n",
            "BlJncz\n",
            "JuaVlOq\n",
            "SHEYvU\n",
            "riCLVF\n",
            "VgObAI\n",
            "PmFbKqk\n",
            "vrVHOQn\n",
            "wYpCGEgX\n",
            "DGRsZFnz\n",
            "tymBMdQ\n",
            "eWiVFapc\n",
            "SuxosE\n",
            "RdsiqoK\n",
            "GFpTxrL\n",
            "XPIOAsE\n",
            "SkRApco\n",
            "lGJTzDSd\n",
            "GStTQR\n",
            "rmvaGoS\n",
            "ESHIzB\n",
            "eZXqkC\n",
            "SPOdFr\n",
            "pHxqsEtA\n",
            "GhFBjrCS\n",
            "dgQkzoVq\n",
            "CnBljec\n",
            "PfdMEY\n",
            "XjNoYEC\n",
            "tWLRPKzh\n",
            "xbNnsJh\n",
            "MXnJtlsv\n",
            "LqPyAhF\n",
            "dOifSM\n",
            "oaEwbfnl\n",
            "muCDeP\n",
            "pTYrXgiK\n",
            "SheZGfs\n",
            "ksgOoM\n",
            "fMHjOLyr\n",
            "mTluobNp\n",
            "SvFqrgOP\n",
            "jwouKpA\n",
            "thBHLebl\n",
            "bTXZPC\n",
            "libuXa\n",
            "LCSRtE\n",
            "zTgXSyd\n",
            "olmIvjbe\n",
            "dInPNWuL\n",
            "VkoSFzqT\n",
            "gJbOYZH\n",
            "QgdwulVc\n",
            "lJykVEeD\n",
            "UpeCjJ\n",
            "pwvHZA\n",
            "tLsmef\n"
          ]
        }
      ]
    },
    {
      "cell_type": "markdown",
      "source": [
        "(ii) WAP to print all prime numbers between 600 and 800"
      ],
      "metadata": {
        "id": "pZUG1QZO3ivI"
      }
    },
    {
      "cell_type": "code",
      "source": [
        "def prime(number):\n",
        "    if number < 2:\n",
        "        return False\n",
        "    for i in range(2, int(number//2) + 1):\n",
        "        if number % i == 0:\n",
        "            return False\n",
        "    return True\n",
        "\n",
        "for num in range(600, 801):\n",
        "    if prime(num):\n",
        "        print(num)\n"
      ],
      "metadata": {
        "colab": {
          "base_uri": "https://localhost:8080/"
        },
        "id": "RX0c4KHa3qU-",
        "outputId": "2e5c4111-9e25-4c01-afc3-176b5d2aeeb7"
      },
      "execution_count": 1,
      "outputs": [
        {
          "output_type": "stream",
          "name": "stdout",
          "text": [
            "601\n",
            "607\n",
            "613\n",
            "617\n",
            "619\n",
            "631\n",
            "641\n",
            "643\n",
            "647\n",
            "653\n",
            "659\n",
            "661\n",
            "673\n",
            "677\n",
            "683\n",
            "691\n",
            "701\n",
            "709\n",
            "719\n",
            "727\n",
            "733\n",
            "739\n",
            "743\n",
            "751\n",
            "757\n",
            "761\n",
            "769\n",
            "773\n",
            "787\n",
            "797\n"
          ]
        }
      ]
    },
    {
      "cell_type": "markdown",
      "source": [
        "(iii) WAP to print all numbers between 100 and 1000 that are divisible by 7 and 9"
      ],
      "metadata": {
        "id": "Mx7MQw3g3w_L"
      }
    },
    {
      "cell_type": "code",
      "source": [
        "for n in range(100,1000):\n",
        "  if(n%7==0 and n%9==0):\n",
        "    print(n)"
      ],
      "metadata": {
        "colab": {
          "base_uri": "https://localhost:8080/"
        },
        "id": "7IUA8RFv3yNO",
        "outputId": "623831b4-2e82-4f26-d77e-3faaaceb34d5"
      },
      "execution_count": 53,
      "outputs": [
        {
          "output_type": "stream",
          "name": "stdout",
          "text": [
            "126\n",
            "189\n",
            "252\n",
            "315\n",
            "378\n",
            "441\n",
            "504\n",
            "567\n",
            "630\n",
            "693\n",
            "756\n",
            "819\n",
            "882\n",
            "945\n"
          ]
        }
      ]
    },
    {
      "cell_type": "markdown",
      "source": [
        "Q5. WAP to create two lists of 10 random numbers between 10 and 30; Find\n",
        "\n",
        "(i) Common numbers in the two lists"
      ],
      "metadata": {
        "id": "2Y9FBh2G36nC"
      }
    },
    {
      "cell_type": "code",
      "source": [
        "import random as r \n",
        "A=r.sample(range(10,31),10)\n",
        "B=r.sample(range(10,31),10)\n",
        "for n in A:\n",
        "  for m in B:\n",
        "    if(n==m):\n",
        "     print(n)\n"
      ],
      "metadata": {
        "colab": {
          "base_uri": "https://localhost:8080/"
        },
        "id": "ljFASibS4AYN",
        "outputId": "d8776587-0c75-472a-99cf-e870863ca325"
      },
      "execution_count": 3,
      "outputs": [
        {
          "output_type": "stream",
          "name": "stdout",
          "text": [
            "27\n",
            "30\n",
            "28\n",
            "25\n",
            "12\n"
          ]
        }
      ]
    },
    {
      "cell_type": "markdown",
      "source": [
        "(ii) Unique numbers in both the list"
      ],
      "metadata": {
        "id": "67TGaNCf4A4P"
      }
    },
    {
      "cell_type": "code",
      "source": [
        "import random as r \n",
        "A=r.sample(range(10,31),10)\n",
        "B=r.sample(range(10,31),10)\n",
        "for n in A:\n",
        "  for m in B :\n",
        "    if(n!=m):\n",
        "      print(n)\n",
        "      break"
      ],
      "metadata": {
        "colab": {
          "base_uri": "https://localhost:8080/"
        },
        "id": "6PTYZccg4EQm",
        "outputId": "e5873eca-f6e5-4e35-ee3f-7fe5d5ff4802"
      },
      "execution_count": 5,
      "outputs": [
        {
          "output_type": "stream",
          "name": "stdout",
          "text": [
            "25\n",
            "10\n",
            "13\n",
            "11\n",
            "27\n",
            "15\n",
            "29\n",
            "18\n",
            "12\n",
            "21\n"
          ]
        }
      ]
    },
    {
      "cell_type": "markdown",
      "source": [
        "(iii) Minimum in both the list"
      ],
      "metadata": {
        "id": "fzpMjnEL4Eja"
      }
    },
    {
      "cell_type": "code",
      "source": [
        "import random as r \n",
        "A=r.sample(range(10,31),10)\n",
        "B=r.sample(range(10,31),10)\n",
        "print(min(A))\n",
        "print(min(B))"
      ],
      "metadata": {
        "colab": {
          "base_uri": "https://localhost:8080/"
        },
        "id": "nmn9T09z4Hrg",
        "outputId": "99511972-b2c9-4720-8614-b3a82d929618"
      },
      "execution_count": 7,
      "outputs": [
        {
          "output_type": "stream",
          "name": "stdout",
          "text": [
            "12\n",
            "10\n"
          ]
        }
      ]
    },
    {
      "cell_type": "markdown",
      "source": [
        "(iv) Maximum in both the list"
      ],
      "metadata": {
        "id": "Wf4_PuIu4H_v"
      }
    },
    {
      "cell_type": "code",
      "source": [
        "import random as r \n",
        "A=r.sample(range(10,31),10)\n",
        "B=r.sample(range(10,31),10)\n",
        "print(max(A))\n",
        "print(max(B))"
      ],
      "metadata": {
        "colab": {
          "base_uri": "https://localhost:8080/"
        },
        "id": "U3npe1DP4Lg_",
        "outputId": "d1a631c0-3930-4664-b5bb-8505f701343e"
      },
      "execution_count": 8,
      "outputs": [
        {
          "output_type": "stream",
          "name": "stdout",
          "text": [
            "30\n",
            "28\n"
          ]
        }
      ]
    },
    {
      "cell_type": "markdown",
      "source": [
        "(v) Sum of both the lists"
      ],
      "metadata": {
        "id": "FgN0YITg4MTM"
      }
    },
    {
      "cell_type": "code",
      "source": [
        "import random as r \n",
        "A=r.sample(range(10,31),10)\n",
        "B=r.sample(range(10,31),10)\n",
        "C=A+B\n",
        "print(C)"
      ],
      "metadata": {
        "colab": {
          "base_uri": "https://localhost:8080/"
        },
        "id": "kwYYp2Q24PoR",
        "outputId": "7b70e2b3-38d8-465d-d18a-ac507cf042ae"
      },
      "execution_count": 10,
      "outputs": [
        {
          "output_type": "stream",
          "name": "stdout",
          "text": [
            "[20, 25, 27, 28, 18, 24, 13, 17, 16, 29, 26, 21, 22, 16, 17, 15, 10, 29, 25, 19]\n"
          ]
        }
      ]
    },
    {
      "cell_type": "markdown",
      "source": [
        "Q6. WAP to create a list of 100 random numbers between 100 and 900. Count and print the:\n",
        "\n",
        "(i) All odd numbers\n"
      ],
      "metadata": {
        "id": "BjOYwBOP4lNR"
      }
    },
    {
      "cell_type": "code",
      "source": [
        "import random as r \n",
        "A=r.sample(range(100,901),100)\n",
        "print(A)\n",
        "sum_odd=0\n",
        "for n in A:\n",
        "  if(n%2!=0):\n",
        "    sum_odd=sum_odd+n\n",
        "print(sum_odd)\n",
        "count_odd=0\n",
        "for n in A:\n",
        "  if(n%2!=0):\n",
        "    count_odd=count_odd+1\n",
        "print(count_odd)\n"
      ],
      "metadata": {
        "colab": {
          "base_uri": "https://localhost:8080/"
        },
        "id": "8b6Sps6e4mHa",
        "outputId": "7e9d7ac0-a30f-47fa-8248-da5c49a1a692"
      },
      "execution_count": 5,
      "outputs": [
        {
          "output_type": "stream",
          "name": "stdout",
          "text": [
            "[763, 644, 456, 141, 304, 822, 484, 570, 472, 550, 211, 410, 130, 821, 663, 623, 440, 773, 480, 596, 330, 195, 335, 438, 332, 119, 430, 798, 563, 672, 139, 785, 241, 247, 597, 242, 236, 399, 753, 741, 718, 817, 872, 797, 833, 652, 316, 121, 229, 221, 755, 451, 460, 502, 617, 720, 556, 802, 272, 174, 795, 526, 722, 627, 268, 224, 575, 897, 624, 469, 369, 825, 600, 383, 815, 371, 640, 435, 102, 829, 409, 757, 450, 794, 717, 445, 468, 188, 239, 452, 579, 740, 415, 233, 636, 282, 609, 561, 345, 271]\n",
            "26920\n",
            "52\n"
          ]
        }
      ]
    },
    {
      "cell_type": "markdown",
      "source": [
        "(ii) All even numbers"
      ],
      "metadata": {
        "id": "ema7iH8W4spR"
      }
    },
    {
      "cell_type": "code",
      "source": [
        "import random as r \n",
        "A=r.sample(range(100,901),100)\n",
        "print(A)\n",
        "sum_even=0\n",
        "for n in  A:\n",
        "  if(n%2==0):\n",
        "    sum_even=sum_even+n\n",
        "print(sum_even)\n",
        "count_even=0\n",
        "for n in A:\n",
        "  if(n%2==0):\n",
        "    count_even=count_even+1\n",
        "print(count_even)\n"
      ],
      "metadata": {
        "colab": {
          "base_uri": "https://localhost:8080/"
        },
        "id": "F6cj3GXK4ypZ",
        "outputId": "3214820a-9125-4865-d536-cd236b67e398"
      },
      "execution_count": 9,
      "outputs": [
        {
          "output_type": "stream",
          "name": "stdout",
          "text": [
            "[328, 404, 383, 251, 177, 195, 262, 427, 881, 456, 564, 636, 895, 353, 669, 228, 859, 422, 648, 301, 118, 704, 166, 245, 107, 690, 363, 288, 671, 731, 789, 718, 204, 184, 611, 767, 199, 160, 873, 593, 765, 780, 736, 790, 223, 677, 376, 521, 566, 108, 128, 741, 434, 787, 642, 855, 874, 838, 381, 559, 607, 415, 483, 441, 857, 728, 244, 627, 766, 334, 499, 609, 488, 645, 315, 885, 900, 632, 382, 678, 820, 389, 154, 557, 729, 336, 656, 738, 147, 756, 459, 582, 890, 289, 817, 458, 694, 451, 113, 449]\n",
            "24688\n",
            "48\n"
          ]
        }
      ]
    },
    {
      "cell_type": "markdown",
      "source": [
        "Q7. D is a dictionary defined as D={1:\"One\",2:\"Two\",3:\"Three\",4:\"Four\", 5:\"Five\"}.\n",
        " WAP to read all the keys and values from dictionary and write to the file in the given below format.\n",
        " \n",
        "Key1, Value1\n",
        "\n",
        "Key2, Value2\n",
        "\n",
        "Key3, Value3\n"
      ],
      "metadata": {
        "id": "LJ30OBIc44WB"
      }
    },
    {
      "cell_type": "code",
      "source": [
        "D={1:\"One\",2:\"Two\",3:\"Three\",4:\"Four\", 5:\"Five\"}\n",
        "fp=open('file.txt','w')\n",
        "for n in D :\n",
        "  fp.write(str(n)+\",\"+str(D[n])+\"\\n\")\n",
        "fp.close()"
      ],
      "metadata": {
        "id": "rE9F1_UY4_Iu"
      },
      "execution_count": 21,
      "outputs": []
    },
    {
      "cell_type": "markdown",
      "source": [
        "Q8. L is a list defined as L={\"One\",\"Two\",\"Three\",\"Four\",\"Five\"}.\n",
        " WAP to count the length of reach element from a list and write to the file in the given below format:\n",
        "\n",
        "One, 3\n",
        "\n",
        "Two, 3\n",
        "\n",
        "Four, 4\n"
      ],
      "metadata": {
        "id": "NR8GTYnv5Bmc"
      }
    },
    {
      "cell_type": "code",
      "source": [
        " L={\"One\",\"Two\",\"Three\",\"Four\",\"Five\"}\n",
        " fp=open(\"file3.txt\",\"w\")\n",
        "\n",
        " for n in L:\n",
        "  length=len(n)\n",
        "  fp.write(n+\",\"+str(length)+\"\\n\")\n",
        " \n",
        " fp.close()"
      ],
      "metadata": {
        "id": "UEZ9Bp405H-V"
      },
      "execution_count": 16,
      "outputs": []
    },
    {
      "cell_type": "markdown",
      "source": [
        "Q9. Write to the file 100 random strings whose length between 10 and 15."
      ],
      "metadata": {
        "id": "x-5pvADc5WZp"
      }
    },
    {
      "cell_type": "code",
      "source": [
        "import random as r \n",
        "import string as s\n",
        "fp=open('string.txt','w')\n",
        "for i in range(1,101):\n",
        " string=\"\".join(r.sample(s.ascii_letters,r.randint(10,16)))\n",
        " fp.write(string+\"\\n\")\n",
        "fp.close() \n",
        "\n",
        "\n"
      ],
      "metadata": {
        "id": "BrgLWHBe5ckd"
      },
      "execution_count": 19,
      "outputs": []
    },
    {
      "cell_type": "markdown",
      "source": [
        "Q10. Write to the file all prime numbers between 600 and 800.\n"
      ],
      "metadata": {
        "id": "huZFjWyE5c5k"
      }
    },
    {
      "cell_type": "code",
      "source": [
        "fp=open('test.txt','w')\n",
        "for n in range(600,801):\n",
        "  f=0\n",
        "  for i in range(2,int(n-1)):\n",
        "    if n%i==0:\n",
        "      f=1\n",
        "      break\n",
        "  if f==0:\n",
        "    fp.write(str(n)+\"\\n\")\n",
        "fp.close()        "
      ],
      "metadata": {
        "id": "VX-1Ybp65gzk"
      },
      "execution_count": 21,
      "outputs": []
    },
    {
      "cell_type": "markdown",
      "source": [
        "Q11. WAP to calculate the time taken by a program."
      ],
      "metadata": {
        "id": "roYKMAsW5mHL"
      }
    },
    {
      "cell_type": "code",
      "source": [
        "import time\n",
        "\n",
        "start_time = time.time()\n",
        "\n",
        "total = 0\n",
        "for i in range(10):\n",
        "    total += i\n",
        "\n",
        "end_time = time.time()\n",
        "\n",
        "total_time = end_time - start_time\n",
        "\n",
        "print(\"Time taken:\", total_time, \"seconds\")\n",
        "     "
      ],
      "metadata": {
        "colab": {
          "base_uri": "https://localhost:8080/"
        },
        "id": "fP0vEhVv5nEM",
        "outputId": "909ec766-4850-48c0-99e7-a135b0b6bfd8"
      },
      "execution_count": 22,
      "outputs": [
        {
          "output_type": "stream",
          "name": "stdout",
          "text": [
            "Time taken: 0.00012183189392089844 seconds\n"
          ]
        }
      ]
    },
    {
      "cell_type": "markdown",
      "source": [
        "Q12. WAP to sort following number of elements in a list, calculate time taken and plot the graph.\n",
        "\n",
        "Number of elements in list Time Taken\n",
        "\n",
        "5k T1\n",
        "\n",
        "10k T2\n",
        "\n",
        "15k T3\n",
        "\n",
        "20k T4\n",
        "\n",
        "25k T5"
      ],
      "metadata": {
        "id": "aTKfSh6Z5n0X"
      }
    },
    {
      "cell_type": "code",
      "source": [
        "import time\n",
        "\n",
        "start_time = time.time()\n",
        "\n",
        "L = [25000,15000,20000,5000,10000]\n",
        "\n",
        "sorted_list = sorted(L)\n",
        "\n",
        "\n",
        "end_time = time.time()\n",
        "\n",
        "total_time = end_time - start_time\n",
        "\n",
        "print(\"Sorted list:\", sorted_list)\n",
        "print(\"Time taken:\", total_time, \"seconds\")\n",
        "     \n"
      ],
      "metadata": {
        "colab": {
          "base_uri": "https://localhost:8080/"
        },
        "id": "TGGhtUBZ518d",
        "outputId": "f0cf4e26-80e8-4069-8db2-1b4023dda5a5"
      },
      "execution_count": 23,
      "outputs": [
        {
          "output_type": "stream",
          "name": "stdout",
          "text": [
            "Sorted list: [5000, 10000, 15000, 20000, 25000]\n",
            "Time taken: 0.00012159347534179688 seconds\n"
          ]
        }
      ]
    },
    {
      "cell_type": "markdown",
      "source": [
        "Q13. WAP to create a dictionary of student marks in five subjects and you have to find the student\n",
        " having maximum and minimum average marks."
      ],
      "metadata": {
        "id": "uaHqTAGa57NH"
      }
    },
    {
      "cell_type": "code",
      "source": [
        "student_marks = {\n",
        "    \"Rakshit\": [90, 100, 92, 80, 97],\n",
        "    \"Tanish\": [100, 89, 89, 89, 88],\n",
        "    \"Bhavya\": [92, 90, 85, 88, 92],\n",
        "    \"Yash\": [75, 80, 76, 82, 70],\n",
        "    \"Akshat\": [85, 88, 90, 92, 87]\n",
        "}\n",
        "\n",
        "# Calculate average marks for each student\n",
        "average_marks = {}\n",
        "for student, marks in student_marks.items():\n",
        "    total_marks = sum(marks)\n",
        "    number_of_subjects = len(marks)\n",
        "    average_marks[student] = total_marks / number_of_subjects\n",
        "\n",
        "# Find student with maximum and minimum average marks\n",
        "max_student = max(average_marks, key=average_marks.get)\n",
        "min_student = min(average_marks, key=average_marks.get)\n",
        "max_student_marks = max(average_marks[\"Rakshit\"], average_marks[\"Tanish\"], average_marks[\"Bhavya\"], average_marks[\"Yash\"], average_marks[\"Akshat\"])\n",
        "min_student_marks = min(average_marks[\"Rakshit\"], average_marks[\"Tanish\"], average_marks[\"Bhavya\"], average_marks[\"Yash\"], average_marks[\"Akshat\"])\n",
        "\n",
        "# Print the results\n",
        "print(\"Student with maximum average marks:\", max_student, \"with marks:\", max_student_marks)\n",
        "print(\"Student with minimum average marks:\", min_student, \"with marks:\", min_student_marks)"
      ],
      "metadata": {
        "colab": {
          "base_uri": "https://localhost:8080/"
        },
        "id": "FkghdnKB59kz",
        "outputId": "3fd49758-ab76-453e-e803-124e0568ce1b"
      },
      "execution_count": 24,
      "outputs": [
        {
          "output_type": "stream",
          "name": "stdout",
          "text": [
            "Student with maximum average marks: Rakshit with marks: 91.8\n",
            "Student with minimum average marks: Yash with marks: 76.6\n"
          ]
        }
      ]
    }
  ]
}